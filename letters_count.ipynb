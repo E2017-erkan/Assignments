{
 "cells": [
  {
   "cell_type": "code",
   "execution_count": null,
   "metadata": {},
   "outputs": [],
   "source": [
    "sentence = input(\"Enter a sentence: \").split()\n",
    "letter_list = []\n",
    "for i in sentence:\n",
    "    for j in i:\n",
    "        if j.isalpha():\n",
    "            letter_list.append(j)\n",
    "my_dict = {}\n",
    "set_list = set(letter_list)\n",
    "for i in set_list:\n",
    "    counter = letter_list.count(i)\n",
    "    my_dict[i] = counter\n",
    "print(my_dict)"
   ]
  }
 ],
 "metadata": {
  "kernelspec": {
   "display_name": "Python 3",
   "language": "python",
   "name": "python3"
  },
  "language_info": {
   "codemirror_mode": {
    "name": "ipython",
    "version": 3
   },
   "file_extension": ".py",
   "mimetype": "text/x-python",
   "name": "python",
   "nbconvert_exporter": "python",
   "pygments_lexer": "ipython3",
   "version": "3.7.6"
  }
 },
 "nbformat": 4,
 "nbformat_minor": 4
}
