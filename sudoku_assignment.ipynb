{
 "cells": [
  {
   "cell_type": "code",
   "execution_count": null,
   "metadata": {},
   "outputs": [],
   "source": [
    "sudoku = [\n",
    "[0, 0, 0, 0, 6, 4, 0, 0, 0],\n",
    "[7, 0, 0, 0, 0, 0, 3, 9, 0],\n",
    "[8, 0, 0, 0, 0, 0, 0, 0, 0],\n",
    "[0, 0, 0, 5, 0, 2, 0, 6, 0],\n",
    "[0, 8, 0, 4, 0, 0, 0, 0, 0],\n",
    "[3, 5, 0, 6, 0, 0, 0, 7, 0],\n",
    "[0, 0, 2, 0, 0, 0, 1, 0, 3],\n",
    "[0, 0, 1, 0, 5, 9, 0, 0, 0],\n",
    "[0, 0, 0, 0, 0, 0, 7, 0, 0]\n",
    "]\n",
    "for i in range(10):\n",
    "    if i == 9:\n",
    "        print(\"- \" * 11)\n",
    "        break\n",
    "    elif i % 3 == 0:\n",
    "        print(\"- \" * 11)\n",
    "    for j in range(9):\n",
    "        print(sudoku[i][j], end=\" \")\n",
    "        if (j + 1) == 9:\n",
    "            print(end=\"\\n\")\n",
    "        elif j % 3 == 2 and j != 8:\n",
    "            print(\"|\", end=\" \")\n"
   ]
  },
  {
   "cell_type": "code",
   "execution_count": null,
   "metadata": {},
   "outputs": [],
   "source": []
  }
 ],
 "metadata": {
  "kernelspec": {
   "display_name": "Python 3",
   "language": "python",
   "name": "python3"
  },
  "language_info": {
   "codemirror_mode": {
    "name": "ipython",
    "version": 3
   },
   "file_extension": ".py",
   "mimetype": "text/x-python",
   "name": "python",
   "nbconvert_exporter": "python",
   "pygments_lexer": "ipython3",
   "version": "3.7.6"
  }
 },
 "nbformat": 4,
 "nbformat_minor": 4
}
