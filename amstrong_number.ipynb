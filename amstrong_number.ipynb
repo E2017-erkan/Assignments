{
 "cells": [
  {
   "cell_type": "code",
   "execution_count": null,
   "metadata": {},
   "outputs": [],
   "source": [
    "while True:\n",
    "\n",
    "    number = input(\"Please enter a positive number: \")\n",
    "    number_count = len(number)\n",
    "    summ = 0\n",
    "\n",
    "    if number.isdigit() == False:\n",
    "        print(\"It is an invalid entry. Don't use non-numeric, float, or negative values!\")\n",
    "\n",
    "    else:\n",
    "        for i in range(number_count):\n",
    "            summ += int(number[i])**len(number)\n",
    "\n",
    "        if summ == int(number):\n",
    "            print(f\"{number} is an Armstrong number\")\n",
    "\n",
    "        else:\n",
    "            print(f\"{number} is not an Armstrong number\")\n",
    "    devam = input('Devam etmek istiyor musunuz (y/n) : ').lower().strip()\n",
    "\n",
    "    if devam=='n':\n",
    "\n",
    "       break"
   ]
  }
 ],
 "metadata": {
  "kernelspec": {
   "display_name": "Python 3",
   "language": "python",
   "name": "python3"
  },
  "language_info": {
   "codemirror_mode": {
    "name": "ipython",
    "version": 3
   },
   "file_extension": ".py",
   "mimetype": "text/x-python",
   "name": "python",
   "nbconvert_exporter": "python",
   "pygments_lexer": "ipython3",
   "version": "3.7.6"
  }
 },
 "nbformat": 4,
 "nbformat_minor": 4
}
